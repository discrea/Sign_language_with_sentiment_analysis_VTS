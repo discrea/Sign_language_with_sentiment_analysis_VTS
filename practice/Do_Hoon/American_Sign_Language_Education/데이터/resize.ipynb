{
 "cells": [
  {
   "cell_type": "code",
   "execution_count": null,
   "metadata": {},
   "outputs": [],
   "source": [
    "from PIL import Image\n",
    "import os, sys"
   ]
  },
  {
   "cell_type": "code",
   "execution_count": null,
   "metadata": {},
   "outputs": [],
   "source": [
    "\n",
    "def resize():\n",
    "    for (path, dir, files) in os.walk(\"./\"):\n",
    "        for dirname in dir:\n",
    "            # 패스할 폴더명 넣기\n",
    "            if dirname == '.ipynb_checkpoints': continue\n",
    "            path = './'+dirname+'/'\n",
    "            for item in os.listdir(path):\n",
    "                im = Image.open(path+item)\n",
    "                f, e = os.path.splitext(item)\n",
    "                imResize = im.resize((416,416), Image.ANTIALIAS)\n",
    "                # \"_B_2019-02-26-101001 resized resized\"\n",
    "                imResize.save(dirname +'_'+ f + ' resized.jpg', 'JPEG', quality=90)"
   ]
  },
  {
   "cell_type": "code",
   "execution_count": null,
   "metadata": {},
   "outputs": [],
   "source": [
    "resize()"
   ]
  }
 ],
 "metadata": {
  "kernelspec": {
   "display_name": "Python 3",
   "language": "python",
   "name": "python3"
  },
  "language_info": {
   "codemirror_mode": {
    "name": "ipython",
    "version": 3
   },
   "file_extension": ".py",
   "mimetype": "text/x-python",
   "name": "python",
   "nbconvert_exporter": "python",
   "pygments_lexer": "ipython3",
   "version": "3.7.4"
  }
 },
 "nbformat": 4,
 "nbformat_minor": 2
}
