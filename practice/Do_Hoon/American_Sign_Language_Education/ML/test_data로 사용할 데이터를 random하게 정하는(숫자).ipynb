{
 "cells": [
  {
   "cell_type": "code",
   "execution_count": 4,
   "metadata": {},
   "outputs": [],
   "source": [
    "import os\n",
    "path=\"test_data/Sign-Language-Digits-Dataset-master/Dataset\"\n",
    "file_list=os.listdir(path)"
   ]
  },
  {
   "cell_type": "code",
   "execution_count": 12,
   "metadata": {},
   "outputs": [
    {
     "name": "stdout",
     "output_type": "stream",
     "text": [
      "0 data의 개수: 205\n",
      "1 data의 개수: 206\n",
      "2 data의 개수: 206\n",
      "3 data의 개수: 206\n",
      "4 data의 개수: 207\n",
      "5 data의 개수: 207\n",
      "6 data의 개수: 207\n",
      "7 data의 개수: 206\n",
      "8 data의 개수: 208\n",
      "9 data의 개수: 204\n"
     ]
    }
   ],
   "source": [
    "for i in range(len(file_list)):\n",
    "    num=os.listdir(path+\"/\"+str(i))\n",
    "    print(str(i)+\" data의 개수: \"+str(len(num)))"
   ]
  },
  {
   "cell_type": "code",
   "execution_count": 25,
   "metadata": {
    "scrolled": true
   },
   "outputs": [],
   "source": [
    "###이 단락 실행시키면 안돼!!!!!!!!!!!!..\n",
    "import random\n",
    "import shutil\n",
    "for i in range(len(file_list)):\n",
    "    num=os.listdir(path+\"/\"+str(i))\n",
    "    random_num=random.sample(num, 100)\n",
    "    real_test=\"test_data/Test_Data/\"+str(i)+\"/\"\n",
    "    for j in random_num:\n",
    "        shutil.move(path+\"/\"+str(i)+\"/\"+str(j),real_test+str(j))\n",
    "   # print(random_num)"
   ]
  },
  {
   "cell_type": "markdown",
   "metadata": {},
   "source": [
    "## test dataset이 100개로 잘 옮겨졌는지 확인"
   ]
  },
  {
   "cell_type": "code",
   "execution_count": 31,
   "metadata": {},
   "outputs": [],
   "source": [
    "real_test_=\"test_data/Test_Data/\"\n",
    "real_test_path=os.listdir(real_test_path)"
   ]
  },
  {
   "cell_type": "code",
   "execution_count": 34,
   "metadata": {},
   "outputs": [
    {
     "name": "stdout",
     "output_type": "stream",
     "text": [
      "0 data의 개수: 100\n",
      "1 data의 개수: 100\n",
      "2 data의 개수: 100\n",
      "3 data의 개수: 100\n",
      "4 data의 개수: 100\n",
      "5 data의 개수: 100\n",
      "6 data의 개수: 100\n",
      "7 data의 개수: 100\n",
      "8 data의 개수: 100\n",
      "9 data의 개수: 100\n"
     ]
    }
   ],
   "source": [
    "for i in range(len(real_test_path)):\n",
    "    num=os.listdir(real_test_+\"/\"+str(i))\n",
    "    print(str(i)+\" data의 개수: \"+str(len(num)))"
   ]
  },
  {
   "cell_type": "code",
   "execution_count": null,
   "metadata": {},
   "outputs": [],
   "source": []
  }
 ],
 "metadata": {
  "kernelspec": {
   "display_name": "Python 3",
   "language": "python",
   "name": "python3"
  },
  "language_info": {
   "codemirror_mode": {
    "name": "ipython",
    "version": 3
   },
   "file_extension": ".py",
   "mimetype": "text/x-python",
   "name": "python",
   "nbconvert_exporter": "python",
   "pygments_lexer": "ipython3",
   "version": "3.7.1"
  }
 },
 "nbformat": 4,
 "nbformat_minor": 2
}
