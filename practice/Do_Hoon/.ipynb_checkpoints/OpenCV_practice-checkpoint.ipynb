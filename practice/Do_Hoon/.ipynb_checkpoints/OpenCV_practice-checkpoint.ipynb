{
 "cells": [
  {
   "cell_type": "code",
   "execution_count": 1,
   "id": "b921036b",
   "metadata": {},
   "outputs": [],
   "source": [
    "import cv2\n",
    "import mediapipe as mp\n",
    "\n",
    "mp_drawing = mp.solutions.drawing_utils\n",
    "mp_hands = mp.solutions.hands\n",
    "\n",
    "# For static images:\n",
    "IMAGE_FILES = []\n",
    "with mp_hands.Hands(\n",
    "    static_image_mode=True,\n",
    "    max_num_hands=2,\n",
    "    min_detection_confidence=0.5) as hands:\n",
    "    for idx, file in enumerate(IMAGE_FILES):\n",
    "        # Read an image, flip it around y-axis for correct handedness output (see\n",
    "        # above).\n",
    "        image = cv2.flip(cv2.imread(file), 1)\n",
    "        # Convert the BGR image to RGB before processing.\n",
    "        results = hands.process(cv2.cvtColor(image, cv2.COLOR_BGR2RGB))\n",
    "\n",
    "        # Print handedness and draw hand landmarks on the image.\n",
    "        print('Handedness:', results.multi_handedness)\n",
    "        if not results.multi_hand_landmarks:\n",
    "            continue\n",
    "        image_height, image_width, _ = image.shape\n",
    "        annotated_image = image.copy()\n",
    "        for hand_landmarks in results.multi_hand_landmarks:\n",
    "            print('hand_landmarks:', hand_landmarks)\n",
    "            print(\n",
    "                f'Index finger tip coordinates: (',\n",
    "                f'{hand_landmarks.landmark[mp_hands.HandLandmark.INDEX_FINGER_TIP].x * image_width}, '\n",
    "                f'{hand_landmarks.landmark[mp_hands.HandLandmark.INDEX_FINGER_TIP].y * image_height})'\n",
    "            )\n",
    "            mp_drawing.draw_landmarks(\n",
    "                annotated_image, hand_landmarks, mp_hands.HAND_CONNECTIONS)\n",
    "        cv2.imwrite(\n",
    "            '/tmp/annotated_image' + str(idx) + '.png', cv2.flip(annotated_image, 1))\n",
    "\n",
    "# For webcam input:\n",
    "cap = cv2.VideoCapture(0)\n",
    "with mp_hands.Hands(\n",
    "    min_detection_confidence=0.5,\n",
    "    min_tracking_confidence=0.5) as hands:\n",
    "    while cap.isOpened():\n",
    "        success, image = cap.read()\n",
    "        if not success:\n",
    "            print(\"Ignoring empty camera frame.\")\n",
    "            # If loading a video, use 'break' instead of 'continue'.\n",
    "            continue\n",
    "\n",
    "        # Flip the image horizontally for a later selfie-view display, and convert\n",
    "        # the BGR image to RGB.\n",
    "        image = cv2.cvtColor(cv2.flip(image, 1), cv2.COLOR_BGR2RGB)\n",
    "        # To improve performance, optionally mark the image as not writeable to\n",
    "        # pass by reference.\n",
    "        image.flags.writeable = False\n",
    "        results = hands.process(image)\n",
    "\n",
    "        # Draw the hand annotations on the image.\n",
    "        image.flags.writeable = True\n",
    "        image = cv2.cvtColor(image, cv2.COLOR_RGB2BGR)\n",
    "        if results.multi_hand_landmarks: \n",
    "            for hand_landmarks in results.multi_hand_landmarks:\n",
    "                mp_drawing.draw_landmarks(\n",
    "                    image, hand_landmarks, mp_hands.HAND_CONNECTIONS)\n",
    "        cv2.imshow('MediaPipe Hands', image)\n",
    "        if cv2.waitKey(5) & 0xFF == 27:\n",
    "            break\n",
    "cap.release()"
   ]
  },
  {
   "cell_type": "markdown",
   "id": "803fc38f",
   "metadata": {},
   "source": [
    "# Python OpenCV 강좌 : 제 2강 - 카메라 출력"
   ]
  },
  {
   "cell_type": "code",
   "execution_count": 3,
   "id": "d2fdff0c",
   "metadata": {},
   "outputs": [],
   "source": [
    "import cv2\n",
    "\n",
    "capture = cv2.VideoCapture(0)\n",
    "capture.set(cv2.CAP_PROP_FRAME_WIDTH, 640)\n",
    "capture.set(cv2.CAP_PROP_FRAME_HEIGHT, 480)\n",
    "\n",
    "while cv2.waitKey(33) < 0:\n",
    "    ret, frame = capture.read()\n",
    "    cv2.imshow(\"VideoFrame\", frame)\n",
    "\n",
    "capture.release()\n",
    "cv2.destroyAllWindows()"
   ]
  },
  {
   "cell_type": "markdown",
   "id": "c1674419",
   "metadata": {},
   "source": [
    "# Python OpenCV 강좌 : 제 3강 - 이미지 출력"
   ]
  },
  {
   "cell_type": "code",
   "execution_count": 3,
   "id": "9e4a5893",
   "metadata": {},
   "outputs": [],
   "source": [
    "image = cv2.imread(\"img/plane.jpg\", cv2.IMREAD_ANYCOLOR)\n",
    "cv2.imshow(\"plane\", image)\n",
    "cv2.waitKey()\n",
    "cv2.destroyAllWindows()"
   ]
  },
  {
   "cell_type": "code",
   "execution_count": 5,
   "id": "c683a9ee",
   "metadata": {},
   "outputs": [
    {
     "name": "stdout",
     "output_type": "stream",
     "text": [
      "256 256 3\n"
     ]
    }
   ],
   "source": [
    "height, width, channel = image.shape\n",
    "print(height, width , channel)"
   ]
  },
  {
   "cell_type": "markdown",
   "id": "d98a6e6c",
   "metadata": {},
   "source": [
    "# Python OpenCV 강좌 : 제 4강 - 비디오 출력"
   ]
  },
  {
   "cell_type": "code",
   "execution_count": 18,
   "id": "e27d45c0",
   "metadata": {},
   "outputs": [],
   "source": [
    "def first_frame(capture):\n",
    "    i = 0\n",
    "    print(i)\n",
    "    capture.set(cv2.CAP_PROP_POS_FRAMES, i)\n",
    "    while frame is None:\n",
    "        print(i)\n",
    "        i += 1\n",
    "        capture.set(cv2.CAP_PROP_POS_FRAMES, i)\n",
    "    return i"
   ]
  },
  {
   "cell_type": "code",
   "execution_count": 19,
   "id": "5de2ecf7",
   "metadata": {},
   "outputs": [
    {
     "ename": "error",
     "evalue": "OpenCV(4.5.2) C:\\Users\\runneradmin\\AppData\\Local\\Temp\\pip-req-build-vi271kac\\opencv\\modules\\highgui\\src\\window.cpp:404: error: (-215:Assertion failed) size.width>0 && size.height>0 in function 'cv::imshow'\n",
     "output_type": "error",
     "traceback": [
      "\u001b[1;31m---------------------------------------------------------------------------\u001b[0m",
      "\u001b[1;31merror\u001b[0m                                     Traceback (most recent call last)",
      "\u001b[1;32m<ipython-input-19-2739902a5dcb>\u001b[0m in \u001b[0;36m<module>\u001b[1;34m\u001b[0m\n\u001b[0;32m     13\u001b[0m \u001b[1;31m#             capture.set(cv2.CAP_PROP_POS_FRAMES, i)\u001b[0m\u001b[1;33m\u001b[0m\u001b[1;33m\u001b[0m\u001b[1;33m\u001b[0m\u001b[0m\n\u001b[0;32m     14\u001b[0m \u001b[1;31m#             i += 1\u001b[0m\u001b[1;33m\u001b[0m\u001b[1;33m\u001b[0m\u001b[1;33m\u001b[0m\u001b[0m\n\u001b[1;32m---> 15\u001b[1;33m         \u001b[0mcv2\u001b[0m\u001b[1;33m.\u001b[0m\u001b[0mimshow\u001b[0m\u001b[1;33m(\u001b[0m\u001b[1;34m\"VideoFrame\"\u001b[0m\u001b[1;33m,\u001b[0m \u001b[0mframe\u001b[0m\u001b[1;33m)\u001b[0m\u001b[1;33m\u001b[0m\u001b[1;33m\u001b[0m\u001b[0m\n\u001b[0m\u001b[0;32m     16\u001b[0m \u001b[1;33m\u001b[0m\u001b[0m\n\u001b[0;32m     17\u001b[0m \u001b[1;32mfinally\u001b[0m\u001b[1;33m:\u001b[0m\u001b[1;33m\u001b[0m\u001b[1;33m\u001b[0m\u001b[0m\n",
      "\u001b[1;31merror\u001b[0m: OpenCV(4.5.2) C:\\Users\\runneradmin\\AppData\\Local\\Temp\\pip-req-build-vi271kac\\opencv\\modules\\highgui\\src\\window.cpp:404: error: (-215:Assertion failed) size.width>0 && size.height>0 in function 'cv::imshow'\n"
     ]
    }
   ],
   "source": [
    "capture = cv2.VideoCapture(\"./vid/test.mp4\")\n",
    "\n",
    "try:\n",
    "    while cv2.waitKey(33) < 0:\n",
    "        if capture.get(cv2.CAP_PROP_POS_FRAMES) == capture.get(cv2.CAP_PROP_FRAME_COUNT):\n",
    "            capture.set(cv2.CAP_PROP_POS_FRAMES, first_frame(capture))\n",
    "\n",
    "        ret, frame = capture.read()\n",
    "        if frame is not None:\n",
    "            cv2.imshow(\"VideoFrame\", frame)\n",
    "            i=0\n",
    "        else:\n",
    "            capture.set(cv2.CAP_PROP_POS_FRAMES, i)\n",
    "            i += 1\n",
    "#         cv2.imshow(\"VideoFrame\", frame)\n",
    "        \n",
    "finally:\n",
    "    capture.release()\n",
    "    cv2.destroyAllWindows()"
   ]
  },
  {
   "cell_type": "markdown",
   "id": "f20a383a",
   "metadata": {},
   "source": [
    "# Python OpenCV 강좌 : 제 5강 - 대칭"
   ]
  },
  {
   "cell_type": "code",
   "execution_count": 23,
   "id": "f4efe1d7",
   "metadata": {},
   "outputs": [],
   "source": [
    "import cv2\n",
    "\n",
    "src = cv2.imread(\"Image/glass.jpg\", cv2.IMREAD_COLOR)\n",
    "dst = cv2.flip(src, -1)\n",
    "# dst = cv2.flip(src, flipCode)\n",
    "# flipCode < 0은 XY 축 대칭(상하좌우 대칭)을 적용합니다.\n",
    "# flipCode = 0은 X 축 대칭(상하 대칭)을 적용합니다.\n",
    "# flipCode > 0은 Y 축 대칭(좌우 대칭)을 적용합니다.\n",
    "cv2.imshow(\"src\", src)\n",
    "cv2.imshow(\"dst\", dst)\n",
    "cv2.waitKey()\n",
    "cv2.destroyAllWindows()"
   ]
  },
  {
   "cell_type": "markdown",
   "id": "27e65114",
   "metadata": {},
   "source": [
    "# Python OpenCV 강좌 : 제 6강 - 회전"
   ]
  },
  {
   "cell_type": "code",
   "execution_count": 3,
   "id": "50bcecea",
   "metadata": {},
   "outputs": [],
   "source": [
    "src = cv2.imread(\"Image/ara.jpg\", cv2.IMREAD_COLOR)\n",
    "\n",
    "height, width, channel = src.shape\n",
    "matrix = cv2.getRotationMatrix2D((width/2, height/2), 90, 1)\n",
    "# matrix = cv2.getRotationMatrix2D(center, angle, scale)는 \n",
    "# 중심점(center), 각도(angle), 비율(scale)로 매핑 변환 행렬(matrix)을 생성합니다.\n",
    "dst = cv2.warpAffine(src, matrix, (width, height))\n",
    "\n",
    "cv2.imshow(\"src\", src)\n",
    "cv2.imshow(\"dst\", dst)\n",
    "cv2.waitKey()\n",
    "cv2.destroyAllWindows()"
   ]
  },
  {
   "cell_type": "markdown",
   "id": "17a8d7ab",
   "metadata": {},
   "source": [
    "# Python OpenCV 강좌 : 제 7강 - 확대 & 축소"
   ]
  },
  {
   "cell_type": "code",
   "execution_count": 4,
   "id": "dcb031e0",
   "metadata": {},
   "outputs": [],
   "source": [
    "import cv2\n",
    "\n",
    "src = cv2.imread(\"Image/fruits.jpg\", cv2.IMREAD_COLOR)\n",
    "height, width, channel = src.shape\n",
    "\n",
    "dst = cv2.pyrUp(src, dstsize=(width * 2, height * 2), borderType=cv2.BORDER_DEFAULT)\n",
    "dst2 = cv2.pyrDown(src)\n",
    "\n",
    "cv2.imshow(\"src\", src)\n",
    "cv2.imshow(\"dst\", dst)\n",
    "cv2.imshow(\"dst2\", dst2)\n",
    "cv2.waitKey()\n",
    "cv2.destroyAllWindows()"
   ]
  },
  {
   "cell_type": "markdown",
   "id": "35c8bd87",
   "metadata": {},
   "source": [
    "# 제 8강 - 크기 조절"
   ]
  },
  {
   "cell_type": "code",
   "execution_count": null,
   "id": "461059e0",
   "metadata": {},
   "outputs": [],
   "source": [
    "import cv2\n",
    "\n",
    "src = cv2.imread(\"Image/champagne.jpg\", cv2.IMREAD_COLOR)\n",
    "\n",
    "dst = cv2.resize(src, dsize=(640, 480), interpolation=cv2.INTER_AREA)\n",
    "dst2 = cv2.resize(src, dsize=(0, 0), fx=0.3, fy=0.7, interpolation=cv2.INTER_LINEAR)\n",
    "\n",
    "cv2.imshow(\"src\", src)\n",
    "cv2.imshow(\"dst\", dst)\n",
    "cv2.imshow(\"dst2\", dst2)\n",
    "cv2.waitKey()\n",
    "cv2.destroyAllWindows()"
   ]
  },
  {
   "cell_type": "code",
   "execution_count": null,
   "id": "4a32f27b",
   "metadata": {},
   "outputs": [],
   "source": []
  },
  {
   "cell_type": "code",
   "execution_count": null,
   "id": "64bfd019",
   "metadata": {},
   "outputs": [],
   "source": []
  },
  {
   "cell_type": "code",
   "execution_count": null,
   "id": "501ba997",
   "metadata": {},
   "outputs": [],
   "source": []
  },
  {
   "cell_type": "code",
   "execution_count": null,
   "id": "fdd773fd",
   "metadata": {},
   "outputs": [],
   "source": []
  },
  {
   "cell_type": "code",
   "execution_count": null,
   "id": "b97b0232",
   "metadata": {},
   "outputs": [],
   "source": []
  },
  {
   "cell_type": "code",
   "execution_count": null,
   "id": "1cd632ef",
   "metadata": {},
   "outputs": [],
   "source": []
  },
  {
   "cell_type": "code",
   "execution_count": null,
   "id": "9cecd53e",
   "metadata": {},
   "outputs": [],
   "source": []
  },
  {
   "cell_type": "code",
   "execution_count": 2,
   "id": "a73d7595",
   "metadata": {},
   "outputs": [],
   "source": [
    "cv2.destroyAllWindows()"
   ]
  },
  {
   "cell_type": "code",
   "execution_count": 1,
   "id": "094bc68b",
   "metadata": {},
   "outputs": [],
   "source": [
    "import cv2"
   ]
  },
  {
   "cell_type": "code",
   "execution_count": null,
   "id": "a236ca71",
   "metadata": {},
   "outputs": [],
   "source": []
  },
  {
   "cell_type": "code",
   "execution_count": null,
   "id": "138aa8c9",
   "metadata": {},
   "outputs": [],
   "source": []
  }
 ],
 "metadata": {
  "kernelspec": {
   "display_name": "Python 3 (ipykernel)",
   "language": "python",
   "name": "python3"
  },
  "language_info": {
   "codemirror_mode": {
    "name": "ipython",
    "version": 3
   },
   "file_extension": ".py",
   "mimetype": "text/x-python",
   "name": "python",
   "nbconvert_exporter": "python",
   "pygments_lexer": "ipython3",
   "version": "3.8.6"
  }
 },
 "nbformat": 4,
 "nbformat_minor": 5
}
